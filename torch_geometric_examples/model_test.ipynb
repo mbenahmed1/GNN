{
 "cells": [
  {
   "cell_type": "code",
   "execution_count": 1,
   "metadata": {},
   "outputs": [],
   "source": [
    "%load_ext autoreload\n",
    "%autoreload 2\n",
    "import sys\n",
    "sys.path.append(\"/home/martin/Documents/git/GNN/torch_geometric_examples/\") \n",
    "# custom dataset\n",
    "from division_v import DivisionV\n",
    "from division import Division\n",
    "\n",
    "import os.path as osp\n",
    "\n",
    "import torch\n",
    "import torch.nn.functional as F\n",
    "from sklearn.metrics import r2_score\n",
    "\n",
    "from torch_geometric.datasets import PPI\n",
    "from torch_geometric.loader import DataLoader\n",
    "from torch_geometric.nn import GATConv"
   ]
  },
  {
   "cell_type": "code",
   "execution_count": 2,
   "metadata": {},
   "outputs": [],
   "source": [
    "# constants\n",
    "\n",
    "PATH = '/home/martin/graphs/division'"
   ]
  },
  {
   "cell_type": "code",
   "execution_count": 3,
   "metadata": {},
   "outputs": [],
   "source": [
    "\n",
    "train_dataset   = DivisionV(PATH, split='train')\n",
    "val_dataset     = DivisionV(PATH, split='val')\n",
    "test_dataset    = DivisionV(PATH, split='test')"
   ]
  },
  {
   "cell_type": "code",
   "execution_count": 4,
   "metadata": {},
   "outputs": [],
   "source": [
    "train_loader = DataLoader(train_dataset, batch_size=12, shuffle=True)\n",
    "val_loader = DataLoader(val_dataset, batch_size=12, shuffle=True)\n",
    "test_loader = DataLoader(test_dataset, batch_size=12, shuffle=True)"
   ]
  },
  {
   "cell_type": "code",
   "execution_count": 5,
   "metadata": {},
   "outputs": [
    {
     "name": "stdout",
     "output_type": "stream",
     "text": [
      "DataBatch(x=[119034, 1], edge_index=[2, 217124], edge_attr=[217124, 1], y=[119034, 1], num_node_features=[12], num_nodes=119034, batch=[119034], ptr=[13])\n",
      "DataBatch(x=[125114, 1], edge_index=[2, 227174], edge_attr=[227174, 1], y=[125114, 1], num_node_features=[12], num_nodes=125114, batch=[125114], ptr=[13])\n",
      "DataBatch(x=[122305, 1], edge_index=[2, 222894], edge_attr=[222894, 1], y=[122305, 1], num_node_features=[12], num_nodes=122305, batch=[122305], ptr=[13])\n",
      "DataBatch(x=[121075, 1], edge_index=[2, 214967], edge_attr=[214967, 1], y=[121075, 1], num_node_features=[12], num_nodes=121075, batch=[121075], ptr=[13])\n",
      "DataBatch(x=[123658, 1], edge_index=[2, 220388], edge_attr=[220388, 1], y=[123658, 1], num_node_features=[12], num_nodes=123658, batch=[123658], ptr=[13])\n",
      "DataBatch(x=[124391, 1], edge_index=[2, 233481], edge_attr=[233481, 1], y=[124391, 1], num_node_features=[12], num_nodes=124391, batch=[124391], ptr=[13])\n",
      "DataBatch(x=[76933, 1], edge_index=[2, 141766], edge_attr=[141766, 1], y=[76933, 1], num_node_features=[8], num_nodes=76933, batch=[76933], ptr=[9])\n"
     ]
    }
   ],
   "source": [
    "for data in train_loader:\n",
    "    print(data)"
   ]
  },
  {
   "cell_type": "code",
   "execution_count": 6,
   "metadata": {},
   "outputs": [],
   "source": [
    "class Net(torch.nn.Module):\n",
    "    def __init__(self):\n",
    "        super().__init__()\n",
    "        self.conv1 = GATConv(train_dataset.num_features, 256, heads=4, edge_dim=1)\n",
    "        self.lin1 = torch.nn.Linear(train_dataset.num_features, 4 * 256)\n",
    "        self.conv2 = GATConv(4 * 256, 256, heads=4, edge_dim=1)\n",
    "        self.lin2 = torch.nn.Linear(4 * 256, 4 * 256)\n",
    "        self.conv3 = GATConv(4 * 256, 1, heads=6,\n",
    "                             concat=False, edge_dim=1)\n",
    "        self.lin3 = torch.nn.Linear(4 * 256, 1)\n",
    "\n",
    "    def forward(self, x, edge_index, edge_attr):\n",
    "        x = F.relu(self.conv1(x, edge_index, edge_attr) + self.lin1(x))\n",
    "        x = F.relu(self.conv2(x, edge_index, edge_attr) + self.lin2(x))\n",
    "        x = self.conv3(x, edge_index) + self.lin3(x)\n",
    "        return x"
   ]
  },
  {
   "cell_type": "code",
   "execution_count": 7,
   "metadata": {},
   "outputs": [],
   "source": [
    "from torchsummary import summary"
   ]
  },
  {
   "cell_type": "code",
   "execution_count": 8,
   "metadata": {},
   "outputs": [],
   "source": [
    "device = torch.device('cuda' if torch.cuda.is_available() else 'cpu')\n",
    "model = Net().to(device)\n",
    "loss_op = torch.nn.MSELoss()\n",
    "optimizer = torch.optim.Adam(model.parameters(), lr=0.005)"
   ]
  },
  {
   "cell_type": "code",
   "execution_count": 9,
   "metadata": {},
   "outputs": [
    {
     "name": "stdout",
     "output_type": "stream",
     "text": [
      "=================================================================\n",
      "Layer (type:depth-idx)                   Param #\n",
      "=================================================================\n",
      "├─GATConv: 1-1                           --\n",
      "|    └─Linear: 2-1                       1,024\n",
      "|    └─Linear: 2-2                       1,024\n",
      "├─Linear: 1-2                            2,048\n",
      "├─GATConv: 1-3                           --\n",
      "|    └─Linear: 2-3                       1,048,576\n",
      "|    └─Linear: 2-4                       1,024\n",
      "├─Linear: 1-4                            1,049,600\n",
      "├─GATConv: 1-5                           --\n",
      "|    └─Linear: 2-5                       6,144\n",
      "|    └─Linear: 2-6                       6\n",
      "├─Linear: 1-6                            1,025\n",
      "=================================================================\n",
      "Total params: 2,110,471\n",
      "Trainable params: 2,110,471\n",
      "Non-trainable params: 0\n",
      "=================================================================\n"
     ]
    }
   ],
   "source": [
    "su = summary(model)"
   ]
  },
  {
   "cell_type": "code",
   "execution_count": 10,
   "metadata": {},
   "outputs": [],
   "source": [
    "def train():\n",
    "    model.train()\n",
    "\n",
    "    total_loss = 0\n",
    "    for data in train_loader:\n",
    "\n",
    "        \n",
    "        data = data.to(device)\n",
    "        optimizer.zero_grad()\n",
    "        rt = model(data.x, data.edge_index, data.edge_attr)\n",
    "        loss = loss_op(rt, data.y)\n",
    "        total_loss += loss.item() * data.num_graphs\n",
    "        loss.backward()\n",
    "        optimizer.step()\n",
    "    return total_loss / len(train_loader.dataset)"
   ]
  },
  {
   "cell_type": "code",
   "execution_count": 11,
   "metadata": {},
   "outputs": [
    {
     "name": "stdout",
     "output_type": "stream",
     "text": [
      "Epoch: 001, Loss: 179.7160\n",
      "Epoch: 002, Loss: 1.3426\n",
      "Epoch: 003, Loss: 0.2718\n",
      "Epoch: 004, Loss: 0.0695\n",
      "Epoch: 005, Loss: 0.0093\n",
      "Epoch: 006, Loss: 0.0021\n",
      "Epoch: 007, Loss: 0.0012\n",
      "Epoch: 008, Loss: 0.0005\n",
      "Epoch: 009, Loss: 0.0003\n",
      "Epoch: 010, Loss: 0.0002\n",
      "Epoch: 011, Loss: 0.0001\n",
      "Epoch: 012, Loss: 0.0001\n",
      "Epoch: 013, Loss: 0.0001\n",
      "Epoch: 014, Loss: 0.0001\n",
      "Epoch: 015, Loss: 0.0001\n",
      "Epoch: 016, Loss: 0.0001\n",
      "Epoch: 017, Loss: 0.0001\n",
      "Epoch: 018, Loss: 0.0000\n",
      "Epoch: 019, Loss: 0.0000\n",
      "Epoch: 020, Loss: 0.0000\n",
      "Epoch: 021, Loss: 0.0000\n",
      "Epoch: 022, Loss: 0.0000\n",
      "Epoch: 023, Loss: 0.0000\n",
      "Epoch: 024, Loss: 0.0000\n",
      "Epoch: 025, Loss: 0.0000\n",
      "Epoch: 026, Loss: 0.0000\n",
      "Epoch: 027, Loss: 0.0000\n",
      "Epoch: 028, Loss: 0.0000\n",
      "Epoch: 029, Loss: 0.0000\n",
      "Epoch: 030, Loss: 0.0000\n",
      "Epoch: 031, Loss: 0.0000\n",
      "Epoch: 032, Loss: 0.0000\n",
      "Epoch: 033, Loss: 0.0000\n",
      "Epoch: 034, Loss: 0.0000\n",
      "Epoch: 035, Loss: 0.0000\n",
      "Epoch: 036, Loss: 0.0000\n",
      "Epoch: 037, Loss: 0.0000\n",
      "Epoch: 038, Loss: 0.0000\n",
      "Epoch: 039, Loss: 0.0000\n",
      "Epoch: 040, Loss: 0.0000\n",
      "Epoch: 041, Loss: 0.0000\n",
      "Epoch: 042, Loss: 0.0000\n",
      "Epoch: 043, Loss: 0.0000\n",
      "Epoch: 044, Loss: 0.0000\n",
      "Epoch: 045, Loss: 0.0000\n",
      "Epoch: 046, Loss: 0.0000\n",
      "Epoch: 047, Loss: 0.0000\n",
      "Epoch: 048, Loss: 0.0000\n",
      "Epoch: 049, Loss: 0.0000\n",
      "Epoch: 050, Loss: 0.0000\n",
      "Epoch: 051, Loss: 0.0000\n",
      "Epoch: 052, Loss: 0.0000\n",
      "Epoch: 053, Loss: 0.0000\n",
      "Epoch: 054, Loss: 0.0000\n",
      "Epoch: 055, Loss: 0.0000\n",
      "Epoch: 056, Loss: 0.0000\n",
      "Epoch: 057, Loss: 0.0000\n",
      "Epoch: 058, Loss: 0.0000\n",
      "Epoch: 059, Loss: 0.0000\n",
      "Epoch: 060, Loss: 0.0000\n",
      "Epoch: 061, Loss: 0.0000\n",
      "Epoch: 062, Loss: 0.0000\n",
      "Epoch: 063, Loss: 0.0000\n",
      "Epoch: 064, Loss: 0.0000\n",
      "Epoch: 065, Loss: 0.0000\n",
      "Epoch: 066, Loss: 0.0000\n",
      "Epoch: 067, Loss: 0.0000\n",
      "Epoch: 068, Loss: 0.0000\n",
      "Epoch: 069, Loss: 0.0000\n",
      "Epoch: 070, Loss: 0.0000\n",
      "Epoch: 071, Loss: 0.0000\n",
      "Epoch: 072, Loss: 0.0000\n",
      "Epoch: 073, Loss: 0.0000\n",
      "Epoch: 074, Loss: 0.0000\n",
      "Epoch: 075, Loss: 0.0000\n",
      "Epoch: 076, Loss: 0.0000\n",
      "Epoch: 077, Loss: 0.0000\n",
      "Epoch: 078, Loss: 0.0000\n",
      "Epoch: 079, Loss: 0.0000\n",
      "Epoch: 080, Loss: 0.0000\n",
      "Epoch: 081, Loss: 0.0000\n",
      "Epoch: 082, Loss: 0.0000\n",
      "Epoch: 083, Loss: 0.0000\n",
      "Epoch: 084, Loss: 0.0000\n",
      "Epoch: 085, Loss: 0.0000\n",
      "Epoch: 086, Loss: 0.0000\n",
      "Epoch: 087, Loss: 0.0000\n",
      "Epoch: 088, Loss: 0.0000\n",
      "Epoch: 089, Loss: 0.0000\n",
      "Epoch: 090, Loss: 0.0000\n",
      "Epoch: 091, Loss: 0.0000\n",
      "Epoch: 092, Loss: 0.0000\n",
      "Epoch: 093, Loss: 0.0000\n",
      "Epoch: 094, Loss: 0.0000\n",
      "Epoch: 095, Loss: 0.0000\n",
      "Epoch: 096, Loss: 0.0000\n",
      "Epoch: 097, Loss: 0.0000\n",
      "Epoch: 098, Loss: 0.0000\n",
      "Epoch: 099, Loss: 0.0000\n",
      "Epoch: 100, Loss: 0.0000\n"
     ]
    }
   ],
   "source": [
    "for epoch in range(1, 101):\n",
    "    loss = train()\n",
    "    \n",
    "    # val_f1 = test(val_loader)\n",
    "    # test_f1 = test(test_loader)\n",
    "    print(f'Epoch: {epoch:03d}, Loss: {loss:.4f}')\n",
    "    #       f'Test: {test_f1:.4f}')"
   ]
  },
  {
   "cell_type": "code",
   "execution_count": 12,
   "metadata": {},
   "outputs": [
    {
     "name": "stdout",
     "output_type": "stream",
     "text": [
      "[0.76404035]\n"
     ]
    },
    {
     "data": {
      "text/plain": [
       "0.07933516"
      ]
     },
     "execution_count": 12,
     "metadata": {},
     "output_type": "execute_result"
    }
   ],
   "source": [
    "ID = 2351\n",
    "DS = 0\n",
    "model.eval()\n",
    "out = model(test_dataset.data.x.to(device), test_dataset.data.edge_index.to(device), test_dataset.data.edge_attr.to(device))\n",
    "print(test_dataset.data.x.numpy()[ID])\n",
    "out.cpu().detach().numpy()[ID][0]\n"
   ]
  },
  {
   "cell_type": "code",
   "execution_count": 13,
   "metadata": {},
   "outputs": [
    {
     "data": {
      "text/plain": [
       "2.736014366746531e-05"
      ]
     },
     "execution_count": 13,
     "metadata": {},
     "output_type": "execute_result"
    }
   ],
   "source": [
    "loss"
   ]
  }
 ],
 "metadata": {
  "interpreter": {
   "hash": "43eec52ae2e25fdee062f41bc35729fb531c177f05340703a5c1c13e281532e7"
  },
  "kernelspec": {
   "display_name": "Python [conda env:torch-pyg]",
   "language": "python",
   "name": "conda-env-torch-pyg-py"
  },
  "language_info": {
   "codemirror_mode": {
    "name": "ipython",
    "version": 3
   },
   "file_extension": ".py",
   "mimetype": "text/x-python",
   "name": "python",
   "nbconvert_exporter": "python",
   "pygments_lexer": "ipython3",
   "version": "3.9.12"
  }
 },
 "nbformat": 4,
 "nbformat_minor": 2
}
